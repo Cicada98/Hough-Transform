{
 "cells": [
  {
   "cell_type": "code",
   "execution_count": 2,
   "metadata": {},
   "outputs": [],
   "source": [
    "import cv2\n",
    "import numpy as np"
   ]
  },
  {
   "cell_type": "markdown",
   "metadata": {},
   "source": [
    "## Function for HT Line detector"
   ]
  },
  {
   "cell_type": "code",
   "execution_count": 13,
   "metadata": {},
   "outputs": [
    {
     "name": "stdout",
     "output_type": "stream",
     "text": [
      "The two longest lines: [array([[ 85, 599, 684,   0]], dtype=int32), array([[165,   0, 764, 599]], dtype=int32)]\n"
     ]
    }
   ],
   "source": [
    "def Line_detection(I):\n",
    "    # Convert the image to grayscale\n",
    "    gray = cv2.cvtColor(I, cv2.COLOR_BGR2GRAY)\n",
    "\n",
    "    # # Edge detection using Canny\n",
    "    edges = cv2.Canny(gray, 50, 150, apertureSize=3)\n",
    "\n",
    "    # Perform Hough Transform to detect lines\n",
    "    lines = cv2.HoughLinesP(edges, rho=1, theta=np.pi/180, threshold=100, minLineLength=100, maxLineGap=10)\n",
    "\n",
    "    # Extract two longest lines using euclidian distance and returning first 2 longest lines\n",
    "    longest_lines = sorted(lines, key=lambda x: ((x[0][0] - x[0][2])**2 + (x[0][1] - x[0][3])**2)**0.5, reverse=True)[:2]\n",
    "\n",
    "    # Draw the detected lines on the input image\n",
    "    for line in longest_lines:\n",
    "        x1, y1, x2, y2 = line[0]\n",
    "        cv2.line(I, (x1, y1), (x2, y2), (0, 255, 0), 2)\n",
    "\n",
    "    # Display the detected lines on the input image\n",
    "    cv2.imshow('Detected Lines', I)\n",
    "    cv2.waitKey(0)\n",
    "    cv2.destroyAllWindows()\n",
    "\n",
    "    return longest_lines\n",
    "\n",
    "# Load the input image\n",
    "image_path = r\"D:\\PG College\\4th Sem\\Image Processing\\Assingments\\Assingment 2\\test1.jpg\"\n",
    "I = cv2.imread(image_path)\n",
    "\n",
    "# Detect lines and get the two longest lines\n",
    "Lines = Line_detection(I)\n",
    "print(\"The two longest lines:\", Lines)\n"
   ]
  }
 ],
 "metadata": {
  "kernelspec": {
   "display_name": "base",
   "language": "python",
   "name": "python3"
  },
  "language_info": {
   "codemirror_mode": {
    "name": "ipython",
    "version": 3
   },
   "file_extension": ".py",
   "mimetype": "text/x-python",
   "name": "python",
   "nbconvert_exporter": "python",
   "pygments_lexer": "ipython3",
   "version": "3.11.4"
  }
 },
 "nbformat": 4,
 "nbformat_minor": 2
}
