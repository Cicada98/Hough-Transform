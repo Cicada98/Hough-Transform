{
 "cells": [
  {
   "cell_type": "code",
   "execution_count": 1,
   "metadata": {},
   "outputs": [],
   "source": [
    "import cv2\n",
    "import numpy as np"
   ]
  },
  {
   "cell_type": "markdown",
   "metadata": {},
   "source": [
    "## Function for Circle Detectinon using HT"
   ]
  },
  {
   "cell_type": "code",
   "execution_count": 33,
   "metadata": {},
   "outputs": [
    {
     "name": "stdout",
     "output_type": "stream",
     "text": [
      "Center coordinates of the detected circles: [[562 532]\n",
      " [704 484]\n",
      " [190  94]\n",
      " [688 118]\n",
      " [502  92]\n",
      " [564 220]\n",
      " [310 260]\n",
      " [ 62 338]\n",
      " [798 184]\n",
      " [506 288]\n",
      " [372 272]\n",
      " [804 356]\n",
      " [360  68]\n",
      " [ 64 564]\n",
      " [336 458]\n",
      " [ 86 214]\n",
      " [188 504]]\n"
     ]
    }
   ],
   "source": [
    "def Circle_detection(I, R):\n",
    "    # Convert the image to grayscale\n",
    "    gray = cv2.cvtColor(I, cv2.COLOR_BGR2GRAY)\n",
    "\n",
    "    # Apply Gaussian blur to reduce noise\n",
    "    blurred = cv2.GaussianBlur(gray, (5, 5), 0)\n",
    "\n",
    "    # Detect circles using Hough Transform\n",
    "    circles = cv2.HoughCircles(blurred, cv2.HOUGH_GRADIENT, dp=1, minDist=50, param1=100, param2=30, minRadius=R-10, maxRadius=R+10)\n",
    "\n",
    "    # Ensure circles were found\n",
    "    if circles is not None:\n",
    "        # Convert circles to integer coordinates\n",
    "        circles = circles.round().astype(\"int\")\n",
    "\n",
    "        # Extract center coordinates of detected circles\n",
    "        centers = circles[0, :, :2]\n",
    "\n",
    "        # Draw the detected circles on the input image\n",
    "        for center in centers:\n",
    "            cv2.circle(I, (center[0], center[1]), R, (0, 255, 0), 2) \n",
    "\n",
    "        # Show the detected circles on the input image\n",
    "        cv2.imshow('Detected Circles', I)\n",
    "        cv2.waitKey(0)\n",
    "        cv2.destroyAllWindows()\n",
    "\n",
    "        return centers\n",
    "    else:\n",
    "        print(\"No circles detected.\")\n",
    "        return None\n",
    "\n",
    "# Load the input image\n",
    "image_path = r\"D:\\PG College\\4th Sem\\Image Processing\\Assingments\\Assingment 2\\test2.jpg\"\n",
    "I = cv2.imread(image_path)\n",
    "\n",
    "# Specific radius of the circles to be detected\n",
    "R = 30  # Change this to the radius of the circles you want to detect\n",
    "\n",
    "# Detect circles and get the center coordinates\n",
    "C = Circle_detection(I, R)\n",
    "print(\"Center coordinates of the detected circles:\", C)\n"
   ]
  }
 ],
 "metadata": {
  "kernelspec": {
   "display_name": "base",
   "language": "python",
   "name": "python3"
  },
  "language_info": {
   "codemirror_mode": {
    "name": "ipython",
    "version": 3
   },
   "file_extension": ".py",
   "mimetype": "text/x-python",
   "name": "python",
   "nbconvert_exporter": "python",
   "pygments_lexer": "ipython3",
   "version": "3.11.4"
  }
 },
 "nbformat": 4,
 "nbformat_minor": 2
}
